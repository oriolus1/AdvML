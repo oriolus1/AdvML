{
 "cells": [
  {
   "cell_type": "code",
   "execution_count": 1,
   "id": "c510e6e9",
   "metadata": {},
   "outputs": [],
   "source": [
    "import pandas as pd\n",
    "import numpy as np\n",
    "import pickle\n",
    "from scipy import stats\n",
    "from sklearn.preprocessing import OneHotEncoder\n",
    "from sklearn.linear_model import LinearRegression, LogisticRegression\n",
    "from matplotlib import pyplot as plt"
   ]
  },
  {
   "cell_type": "code",
   "execution_count": 2,
   "id": "a48cd660",
   "metadata": {},
   "outputs": [],
   "source": [
    "with open('players.pkl', 'rb') as f:\n",
    "    data_players = pickle.load(f)\n",
    "    \n",
    "with open('results.pkl', 'rb') as f:\n",
    "    data_results = pickle.load(f)\n",
    "    \n",
    "with open('tournaments.pkl', 'rb') as f:\n",
    "    data_tournaments = pickle.load(f)"
   ]
  },
  {
   "cell_type": "code",
   "execution_count": 3,
   "id": "395693e6",
   "metadata": {},
   "outputs": [
    {
     "data": {
      "text/plain": [
       "{'id': 2935,\n",
       " 'name': 'Анатолий',\n",
       " 'patronymic': 'Рафаилович',\n",
       " 'surname': 'Белкин'}"
      ]
     },
     "execution_count": 3,
     "metadata": {},
     "output_type": "execute_result"
    }
   ],
   "source": [
    "data_players[2935]"
   ]
  },
  {
   "cell_type": "markdown",
   "id": "300fb9b4",
   "metadata": {},
   "source": [
    "### 1. Подготовка данных для моделей."
   ]
  },
  {
   "cell_type": "markdown",
   "id": "58ca9920",
   "metadata": {},
   "source": [
    "Сначала извлечем из данных наборы трейна и теста. Вероятно, стоило работать с данными через pandas, но мне это пришло в голову поздно и не хотелось переделывать. \n",
    "\n",
    "Возьмем турниры с результатами и из нужных годов."
   ]
  },
  {
   "cell_type": "code",
   "execution_count": 4,
   "id": "320e5ec7",
   "metadata": {},
   "outputs": [
    {
     "name": "stdout",
     "output_type": "stream",
     "text": [
      "Number of tournaments in train = 674\n",
      "Number of tournaments in test = 173\n"
     ]
    }
   ],
   "source": [
    "tourn_train = []\n",
    "tourn_test = []\n",
    "for idx in data_results.keys():\n",
    "    if data_results[idx] != [] and 'mask' in data_results[idx][0].keys() and data_results[idx][0]['mask'] is not None:\n",
    "        if data_tournaments[idx]['dateStart'][0:4] == '2019':\n",
    "            tourn_train.append(idx)\n",
    "        if data_tournaments[idx]['dateStart'][0:4] == '2020':\n",
    "            tourn_test.append(idx)           \n",
    "    \n",
    "print(\"Number of tournaments in train =\", len(tourn_train))\n",
    "print(\"Number of tournaments in test =\", len(tourn_test))"
   ]
  },
  {
   "cell_type": "markdown",
   "id": "9094393a",
   "metadata": {},
   "source": [
    "Теперь избавимся от тех турниров, где разные команды играют разное число вопросов, есть команды без данных о результате или членах команды или всего одна команда."
   ]
  },
  {
   "cell_type": "code",
   "execution_count": 5,
   "id": "93922c6f",
   "metadata": {},
   "outputs": [],
   "source": [
    "def get_inconsistent_tourn(list_of_tournaments):\n",
    "\n",
    "    counter_inconsistent = 0\n",
    "    inconsistent_tourn_list = []\n",
    "    \n",
    "    for idx_tourn in list_of_tournaments:\n",
    "        \n",
    "        inconsistent_tourn = False\n",
    "\n",
    "        num_of_current_questions = len([int(res) for res in data_results[idx_tourn][0]['mask'] if res=='0' or res=='1'])\n",
    "        \n",
    "        idx_teams = 0\n",
    "        while idx_teams < len(data_results[idx_tourn]) and inconsistent_tourn == False:\n",
    "            \n",
    "            if data_results[idx_tourn][idx_teams]['mask'] is None:\n",
    "                #print(\"in tourn \", idx_tourn, \" team \", idx_teams, \"has no result\")\n",
    "                inconsistent_tourn = True\n",
    "            elif len(data_results[idx_tourn]) == 1:\n",
    "                #print(\"only one team here!\")\n",
    "                inconsistent_tourn = True\n",
    "            elif data_results[idx_tourn][idx_teams]['teamMembers'] == []:\n",
    "                #print(\"in tourn \", idx_tourn, \" team \", idx_teams, \"has no team members\")\n",
    "                inconsistent_tourn = True              \n",
    "                \n",
    "                \n",
    "            if data_results[idx_tourn][idx_teams]['mask'] is not None and len(\n",
    "                        [int(res) for res in data_results[idx_tourn][idx_teams]['mask'] if res=='0' or res=='1']\n",
    "                                                                                ) != num_of_current_questions:\n",
    "                #print(\"in tourn \", idx_tourn, \"different amount of questions!\")\n",
    "                inconsistent_tourn = True\n",
    "                #print(\"Alarm! extra questions!\", len(data_results[idx_tourn][idx_teams]['mask']) - num_of_current_questions)\n",
    "            \n",
    "            idx_teams += 1\n",
    "            \n",
    "        if inconsistent_tourn == True:\n",
    "            counter_inconsistent += 1\n",
    "            inconsistent_tourn_list.append(idx_tourn)\n",
    "            #print(\"Tournament with idx \", idx_tourn, \" is inconsistent\")\n",
    "                             \n",
    "    print(\"number of inconsistent tournaments =\", counter_inconsistent)\n",
    "\n",
    "    return inconsistent_tourn_list"
   ]
  },
  {
   "cell_type": "code",
   "execution_count": 6,
   "id": "f2850e8f",
   "metadata": {},
   "outputs": [
    {
     "name": "stdout",
     "output_type": "stream",
     "text": [
      "number of inconsistent tournaments = 38\n",
      "number of inconsistent tournaments = 17\n"
     ]
    }
   ],
   "source": [
    "inconsistent_tourn_train = get_inconsistent_tourn(tourn_train)\n",
    "inconsistent_tourn_test = get_inconsistent_tourn(tourn_test)"
   ]
  },
  {
   "cell_type": "code",
   "execution_count": 7,
   "id": "6ac92c51",
   "metadata": {},
   "outputs": [
    {
     "name": "stdout",
     "output_type": "stream",
     "text": [
      "Now number of tournaments in train = 636\n",
      "Now number of tournaments in test = 156\n"
     ]
    }
   ],
   "source": [
    "tourn_train = [t for t in tourn_train if t not in inconsistent_tourn_train]\n",
    "tourn_test = [t for t in tourn_test if t not in inconsistent_tourn_test]\n",
    "\n",
    "print(\"Now number of tournaments in train =\", len(tourn_train))\n",
    "print(\"Now number of tournaments in test =\", len(tourn_test))"
   ]
  },
  {
   "cell_type": "markdown",
   "id": "34d76f20",
   "metadata": {},
   "source": [
    "Приготовим данные для one-hot encoding: соберем все пары игрок-вопрос, которые друг с другом встречались. Игроки кодируются  их id номерами, а вопросы просто занумеруем подряд по порядку рассмотрения. Если игроки 42 и 57 сыграли три вопроса, то в матрице X_for_enc мы получим [[42 0], [42 1], [42 2], [57 0], [57 1], [57 2]]. Потом преобразуем эту матрицу через one-hot encoding, получим строчки длиной равной сумме количества игроков и числа всех сыгранных вопросов. \n",
    "Таргеты - это 1 если вопрос взят, 0 если не взят, причем вначале мы будем приписывать победу над вопросом каждому игроку из взявшей его команды. То есть mask команды продублируем для каждого игрока. "
   ]
  },
  {
   "cell_type": "code",
   "execution_count": 8,
   "id": "4628e9b7",
   "metadata": {},
   "outputs": [],
   "source": [
    "def get_data_for_enc(list_of_tournaments):\n",
    "    X_for_enc = np.empty((0,2), int)\n",
    "    y_for_enc = np.array([])\n",
    "    num_of_questions_already_played = 0\n",
    "    to_stack_for_X = []\n",
    "    to_stack_for_y = []\n",
    "    counter_inconsistent = 0\n",
    "    num_of_questions_in_tourns = []\n",
    "\n",
    "    \n",
    "    for idx_tourn in list_of_tournaments:\n",
    "\n",
    "        inconsistent_tourn = False\n",
    "\n",
    "        num_of_current_questions = len([int(res) for res in data_results[idx_tourn][0]['mask'] if res=='0' or res=='1'])\n",
    "        \n",
    "        current_questions_idx = np.arange(\n",
    "            num_of_questions_already_played, num_of_questions_already_played + num_of_current_questions)\n",
    "        num_of_questions_already_played += num_of_current_questions\n",
    "        \n",
    "        idx_teams = 0\n",
    "        for idx_teams in range(0, len(data_results[idx_tourn])):  \n",
    "            \n",
    "            y_current = np.array([int(res) for res in data_results[idx_tourn][idx_teams]['mask'] if res=='0' or res=='1'])\n",
    "            team_players_idx = []\n",
    "            for idx_team_members in range(0, len(data_results[idx_tourn][idx_teams]['teamMembers'])):\n",
    "                player_id = int(data_results[idx_tourn][idx_teams]['teamMembers'][idx_team_members]['player']['id'])\n",
    "                team_players_idx.append(player_id) \n",
    "\n",
    "            player_question_pairs = np.transpose([np.repeat(team_players_idx, len(current_questions_idx)), \n",
    "                                                  np.tile(current_questions_idx, len(team_players_idx))])\n",
    "\n",
    "            y_for_current_team = np.tile(y_current, len(team_players_idx)).reshape(-1, 1)\n",
    "                \n",
    "            to_stack_for_X.append(player_question_pairs)            \n",
    "            to_stack_for_y.append(y_for_current_team)\n",
    "        \n",
    "\n",
    "        num_of_questions_in_tourns.append(num_of_current_questions)\n",
    "            \n",
    "    X_for_enc = np.vstack((to_stack_for_X))\n",
    "    y_for_enc = np.vstack((to_stack_for_y))\n",
    "    \n",
    "    return X_for_enc, y_for_enc, num_of_questions_in_tourns"
   ]
  },
  {
   "cell_type": "code",
   "execution_count": 9,
   "id": "30ce9ecc",
   "metadata": {},
   "outputs": [],
   "source": [
    "X_for_enc, y_for_enc, num_of_questions_in_tourns = get_data_for_enc(tourn_train)"
   ]
  },
  {
   "cell_type": "markdown",
   "id": "a6145024",
   "metadata": {},
   "source": [
    "Пропустим наши данные через one-hot encoder, получим разреженную матрицу."
   ]
  },
  {
   "cell_type": "code",
   "execution_count": 10,
   "id": "e0fbd771",
   "metadata": {},
   "outputs": [
    {
     "data": {
      "text/plain": [
       "<14699304x82478 sparse matrix of type '<class 'numpy.int32'>'\n",
       "\twith 29398608 stored elements in Compressed Sparse Row format>"
      ]
     },
     "execution_count": 10,
     "metadata": {},
     "output_type": "execute_result"
    }
   ],
   "source": [
    "enc = OneHotEncoder(dtype='int32')\n",
    "enc.fit(X_for_enc)\n",
    "X_train = enc.transform(X_for_enc)#.toarray()\n",
    "X_train"
   ]
  },
  {
   "cell_type": "markdown",
   "id": "db3a8e94",
   "metadata": {},
   "source": [
    "Повторюсь, что первые категории соответствуют id игроков, а вторые --- номерам вопросов."
   ]
  },
  {
   "cell_type": "code",
   "execution_count": 11,
   "id": "bab08593",
   "metadata": {},
   "outputs": [
    {
     "data": {
      "text/plain": [
       "[array([    15,     16,     23, ..., 224408, 224482, 224539]),\n",
       " array([    0,     1,     2, ..., 29285, 29286, 29287])]"
      ]
     },
     "execution_count": 11,
     "metadata": {},
     "output_type": "execute_result"
    }
   ],
   "source": [
    "enc.categories_"
   ]
  },
  {
   "cell_type": "markdown",
   "id": "f254c48e",
   "metadata": {},
   "source": [
    "### 2. Baseline модели."
   ]
  },
  {
   "cell_type": "markdown",
   "id": "d58fbd13",
   "metadata": {},
   "source": [
    "Начнем с логистической регрессии. Пусть $\\mu_i$ - \"сила\" игрока $i$, а $\\xi_j$ - сложность вопроса $j$. Тогда будем считать, что вероятность игрока ответить на вопрос равна $\\sigma(\\mu_i - \\xi_j)$. Заметим, что при обучении логистической регрессии, где в правой части стоят 1 для взятого вопроса и 0 для невзятого, мы получаем сначала веса $\\bar{\\mu}$, а потом будут веса $-\\bar{\\xi}$ --- чтобы получить сами веса $\\bar{\\xi}$ надо было бы поменять знак у единичек в правой части one-hot encoded матрицы, но не хочется этого делать. Просто будем помнить о том что в интерпретации коэффициентов сложность вопросов у нас получается с противоположным знаком."
   ]
  },
  {
   "cell_type": "code",
   "execution_count": 12,
   "id": "0df08e4f",
   "metadata": {},
   "outputs": [
    {
     "name": "stdout",
     "output_type": "stream",
     "text": [
      "Wall time: 4min 5s\n"
     ]
    },
    {
     "data": {
      "text/plain": [
       "LogisticRegression(solver='saga')"
      ]
     },
     "execution_count": 12,
     "metadata": {},
     "output_type": "execute_result"
    }
   ],
   "source": [
    "%%time\n",
    "\n",
    "logreg = LogisticRegression(solver='saga')\n",
    "logreg.fit(X_train, y_for_enc.ravel())"
   ]
  },
  {
   "cell_type": "markdown",
   "id": "6ed7eeb6",
   "metadata": {},
   "source": [
    "У линейной регрессии интерпретация менее интуитивная, на мой взгляд: теперь $(\\mu_i - \\xi_j)$ близко к 1, если вопрос взят, и к нулю, если не взят, но речь о вероятностях уже не идет. Есть сходство с шахматным рейтингом, который упоминался на лекции - можно сказать, что единица в разности между силой игрока и сложностью вопроса дает игроку очко на этом вопросе. То есть эта разность оценивает, сколько игрок может заработать на вопросе.  "
   ]
  },
  {
   "cell_type": "code",
   "execution_count": 13,
   "id": "7bd24316",
   "metadata": {},
   "outputs": [
    {
     "name": "stdout",
     "output_type": "stream",
     "text": [
      "Wall time: 2min 1s\n"
     ]
    },
    {
     "data": {
      "text/plain": [
       "LinearRegression()"
      ]
     },
     "execution_count": 13,
     "metadata": {},
     "output_type": "execute_result"
    }
   ],
   "source": [
    "%%time\n",
    "\n",
    "lr = LinearRegression()\n",
    "lr.fit(X_train, y_for_enc)"
   ]
  },
  {
   "cell_type": "markdown",
   "id": "9fd92e1b",
   "metadata": {},
   "source": [
    "### 3. Ранжирование команд - прогноз."
   ]
  },
  {
   "cell_type": "markdown",
   "id": "4e687dff",
   "metadata": {},
   "source": [
    "Теперь перейдем к оценке качества моделей - спрогнозируем рейтинг команд для тестовых турниров. Я беру силу игрока (первая часть весов модели) и суммирую их по всем игрокам в команде. Можно было брать среднее или максимум, но обычно все же количество игроков положительно сказывается на силе команды, то есть шестеро играют лучше четырех при прочих равных, поэтому сумма. Функция range_commands ранжирует команды турнира по общей силе и по фактическим результатам, а функция calculate_correlations считает корреляции."
   ]
  },
  {
   "cell_type": "code",
   "execution_count": 14,
   "id": "f6d5cd80",
   "metadata": {},
   "outputs": [],
   "source": [
    "players_id_for_decode = enc.categories_[0]"
   ]
  },
  {
   "cell_type": "code",
   "execution_count": 15,
   "id": "908c8bf8",
   "metadata": {},
   "outputs": [],
   "source": [
    "def range_commands(idx_tourn, model):\n",
    "\n",
    "    my_sort = []\n",
    "    real_sort = []\n",
    "    \n",
    "    players_strength = list(model.coef_[0])\n",
    "    \n",
    "    inconsistent_tourn = False\n",
    "\n",
    "    idx_teams = 0\n",
    "    for idx_teams in range(0, len(data_results[idx_tourn])):\n",
    "\n",
    "        num_of_questions_answered = np.sum(\n",
    "            [int(res) for res in data_results[idx_tourn][idx_teams]['mask'] if res=='0' or res=='1']\n",
    "        )\n",
    "        \n",
    "        collective_strength = 0\n",
    "        for idx_team_members in range(0, len(data_results[idx_tourn][idx_teams]['teamMembers'])):\n",
    "            player_id = int(data_results[idx_tourn][idx_teams]['teamMembers'][idx_team_members]['player']['id'])\n",
    "\n",
    "            if player_id in players_id_for_decode:\n",
    "                collective_strength += players_strength[np.where(players_id_for_decode == player_id)[0][0]]\n",
    "                \n",
    "        \n",
    "        my_sort.append((data_results[idx_tourn][idx_teams]['team']['id'], collective_strength))\n",
    "        real_sort.append((data_results[idx_tourn][idx_teams]['team']['id'], num_of_questions_answered))\n",
    "            \n",
    "    my_sort_sorted = sorted(my_sort, key=lambda element: element[1])\n",
    "    real_sort_sorted = sorted(real_sort, key=lambda element: element[1])\n",
    "\n",
    "    my_sort_sorted = [element[0] for element in my_sort_sorted]\n",
    "    real_sort_sorted = [element[0] for element in real_sort_sorted]  \n",
    "    \n",
    "    return my_sort_sorted, real_sort_sorted, inconsistent_tourn"
   ]
  },
  {
   "cell_type": "code",
   "execution_count": 16,
   "id": "c1c5fa93",
   "metadata": {},
   "outputs": [],
   "source": [
    "def calculate_correlations(tournaments, model):\n",
    "    stats_list_pearson = []\n",
    "    stats_list_kendall = []\n",
    "\n",
    "    for tourn in tournaments:\n",
    "\n",
    "        my_sort_sorted, real_sort_sorted, inconsistent_tourn = range_commands(tourn, model)\n",
    "        #real_sort_sorted.reverse()\n",
    "\n",
    "        if inconsistent_tourn == False:\n",
    "            real_index = list(np.arange(0, len(real_sort_sorted)))\n",
    "            my_index = [real_sort_sorted.index(element) for element in my_sort_sorted]\n",
    "\n",
    "            stats_list_pearson.append(stats.spearmanr(my_index, real_index)[0])\n",
    "            stats_list_kendall.append(stats.kendalltau(my_index, real_index)[0])\n",
    "\n",
    "    stats_list_pearson = np.array(stats_list_pearson)\n",
    "    stats_list_kendall = np.array(stats_list_kendall)\n",
    "    return np.mean(stats_list_pearson), np.mean(stats_list_kendall)"
   ]
  },
  {
   "cell_type": "code",
   "execution_count": 17,
   "id": "f6343faa",
   "metadata": {},
   "outputs": [
    {
     "name": "stdout",
     "output_type": "stream",
     "text": [
      "For logistic regression:\n",
      "Pearson =  0.7684385641412695\n",
      "Kendall =  0.5994077833567775\n",
      "For linear regression:\n",
      "Pearson =  0.7661524768581964\n",
      "Kendall =  0.5978859710855394\n"
     ]
    }
   ],
   "source": [
    "pearson, kendall = calculate_correlations(tourn_test, logreg)\n",
    "print(\"For logistic regression:\")\n",
    "print(\"Pearson = \", pearson)\n",
    "print(\"Kendall = \", kendall)\n",
    "\n",
    "pearson, kendall = calculate_correlations(tourn_test, lr)\n",
    "print(\"For linear regression:\")\n",
    "print(\"Pearson = \", pearson)\n",
    "print(\"Kendall = \", kendall)"
   ]
  },
  {
   "cell_type": "markdown",
   "id": "64b63ef1",
   "metadata": {},
   "source": [
    "Вроде получилось то что нужно. Результаты логистической и линейной регрессий похожи, у логистической чуть получше."
   ]
  },
  {
   "cell_type": "markdown",
   "id": "4adb2a54",
   "metadata": {},
   "source": [
    "### 4. EM-алгоритм."
   ]
  },
  {
   "cell_type": "markdown",
   "id": "e78cfe95",
   "metadata": {},
   "source": [
    "Теперь попробуем учесть, что на вопрос отвечает команда, а ответил ли на вопрос каждый конкретный игрок - нам не известно. Собственно, естественные ненаблюдаемые переменные должны как раз фиксировать ответы отдельных игроков. Учитывая, что команда не отвечает тогда и только тогда, когда каждый ее игрок не отвечает (а при верном ответе команды может быть множество комбинаций), то оказывается удобным поменять обозначения. Будем считать наблюдаемую переменную $y_k = 1$, если $k$-тая команда на вопрос НЕ ответила, и $y_k = 0$, если ответила (поменяем смысл 0 и 1, теперь будем замечать не взятые, а \"слитые\" вопросы). Тогда если скрытая переменная $z_{ki}$ отражает результат $i$-того игрока команды $k$ (с тем же смыслом, т.е. $z_{ki}=1$ тогда и только тогда, когда вопрос слит), то $y_k = \\prod_{i} z_{ki}$ по всем игрокам $i$, входящим в команду $k$. Заметим, что при условии данных $y_k$ переменные $z_{ki}$ зависимы, но при этом если смотреть без условий, то $z_{ki}$ независимы --- т.к. каждый игрок думает над вопросом сам по себе (такое предположение мы делаем, игнорируем синергию игроков в команде), и только перед тем как сдать ответ на вопрос игроки обмениваются своими ответами и радостно выбирают верный. Тогда $P(y_k|\\bar{\\mu}, \\bar{\\xi}) = P(\\prod_{i} z_{ki}|\\bar{\\mu}, \\bar{\\xi}) = \n",
    "\\prod_{i} P(z_{ki}|\\bar{\\mu}, \\bar{\\xi})$.\n",
    "\n",
    "И правдоподобие считается как \n",
    "$P(D|\\bar{\\mu}, \\bar{\\xi}) = P(y_1|\\bar{\\mu}, \\bar{\\xi}) \\cdot P(y_2|\\bar{\\mu}, \\bar{\\xi}) \\cdots P(y_N|\\bar{\\mu}, \\bar{\\xi}) = \\prod_{k} \\prod_{i} P(z_{ki} |\\bar{\\mu}, \\bar{\\xi})$ (внешнее произведение по командам, внутреннее --- по игрокам в команде, и получается, что нужно просто перемножить все вероятности по паре игрок-вопрос). \n",
    "\n",
    "Начнем с переобозначения таргетов, поменяем 0 на 1 и наоборот."
   ]
  },
  {
   "cell_type": "code",
   "execution_count": 18,
   "id": "71e75734",
   "metadata": {},
   "outputs": [],
   "source": [
    "anti_y = 1 - y_for_enc "
   ]
  },
  {
   "cell_type": "markdown",
   "id": "cbd4e8da",
   "metadata": {},
   "source": [
    "В baseline, когда мы приписывали успех команды каждому игроку, мы считаем что если произведение $z_{ki}$ равно нулю, то каждый из множителей равен нулю. А по EM-алгоритму нужно заменять какой-то стартовый набор скрытых переменных на их матожидание при первых параметрах модели. В случае линейной регрессии, когда мы оценивали заработанные игроком на вопросе очки как разность между силой игрока и сложностью вопроса, $\\mu_i - \\xi_j$, матожидание $z_{ij}$ как раз равно разности значений этих коэффициентов, то есть в линейной модели матожидание скрытой переменной для каждой пары игрок-вопрос равно предсказанию линейной модели. Правда, мы поменяли в таргетах нули на единицы и наоборот, так что с интерпретацию весов тоже поменяем (у нас кстати сумма, т.к. в one-hot encoding везде единички, без минусов). Теперь будем считать, что первая часть коэффициентов означает минус силу игрока, а вторая - сложность вопроса. Тогда результат встречи игрока $i$ и вопроса $j$ (обозначенный переменной $z_{ij}$ и равный 1, если вопрос упущен, и 0, если взят) имеет распределение $N(\\xi_j - \\mu_i, \\sigma^2)$.\n",
    "Максимизация правдоподобия в этой модели равносильна, как мы знаем, минимизации квадратичной ошибки, т.е. M-шаг за нас делает sklearn с линейной регрессией. Е-шаг - это замена текущего набора $z_{ij}$ на его предсказание с помощью нашей модели.  \n",
    "\n",
    "Запустим несколько итераций и посмотрим, как меняются метрики. Поскольку в ранжировании по количеству единичек из официальных данных противоположно ранжированию по количеству единичек из наших таргетов, корреляции поменяют знак. Учтем это, поменяв его обратно."
   ]
  },
  {
   "cell_type": "code",
   "execution_count": 19,
   "id": "5ca45ec9",
   "metadata": {},
   "outputs": [
    {
     "name": "stdout",
     "output_type": "stream",
     "text": [
      "Iteration  0\n",
      "Iteration  1\n",
      "Iteration  2\n",
      "Iteration  3\n",
      "Iteration  4\n",
      "Wall time: 11min 32s\n"
     ]
    }
   ],
   "source": [
    "%%time\n",
    "\n",
    "expectation_anti = anti_y\n",
    "\n",
    "iterations = 5\n",
    "\n",
    "metrics_list_pearson = []\n",
    "metrics_list_kendall = []\n",
    "\n",
    "for i in range(0, iterations):\n",
    "    print(\"Iteration \", i)\n",
    "    \n",
    "    model = LinearRegression()\n",
    "    model.fit(X_train, expectation_anti)        ## M - шаг\n",
    "    \n",
    "    pearson, kendall = calculate_correlations(tourn_test, model)\n",
    "    metrics_list_pearson.append(-pearson)\n",
    "    metrics_list_kendall.append(-kendall)\n",
    "    \n",
    "    expectation_anti = model.predict(X_train)   ## E - шаг\n",
    "    \n",
    "best_model = model"
   ]
  },
  {
   "cell_type": "code",
   "execution_count": 20,
   "id": "4dccf8a3",
   "metadata": {},
   "outputs": [
    {
     "name": "stdout",
     "output_type": "stream",
     "text": [
      "Pearson dynamics:  [0.7796293858377802, 0.7796310241567261, 0.7796317428112909, 0.7796325130524457, 0.7796328030046588]\n",
      "Kendall dynamics:  [0.613456726346059, 0.6134590222457907, 0.6134600658365779, 0.6134621530181523, 0.6134623617363096]\n"
     ]
    }
   ],
   "source": [
    "print(\"Pearson dynamics: \", metrics_list_pearson)\n",
    "print(\"Kendall dynamics: \", metrics_list_kendall)"
   ]
  },
  {
   "cell_type": "markdown",
   "id": "b86fd720",
   "metadata": {},
   "source": [
    "Во-первых, видно, что метрики регрессии улучшились по сравнению с теми, которые были в baseline модели (корреляции, округленные до третьего знака после запятой, в таблице ниже).\n",
    "\n",
    "|         | Линрег | Логрег | EM-модель |\n",
    "|---------|--------|--------|-----------|\n",
    "| Pearson |  0.766 |  0.768 |  0.780    |\n",
    "| Kendall |  0.598 |  0.599 |  0.613    |\n",
    "\n",
    "\n",
    "Во-вторых, при итерациях алгоритма метрики изменяются совсем незначительно. Но растут. Но мало. Подозреваю, что так быть не должно и возможно мой EM-алгоритм - какой-то не EM. И топ игроков потом будет выглядеть слишком прилично, почти без лишних людей. Но поскольку ничего лучше нет, в дальнейшем в качестве модели возьмем последнюю итерацию \"перевернутой\" линейной регрессии (где единица - это невзятый вопрос). Ее веса - это вначале сила игроков с противоположным знаком, а потом как раз сложность вопросов. \n",
    "\n",
    "Теперь посмотрим на сложность вопросов."
   ]
  },
  {
   "cell_type": "markdown",
   "id": "46d1b213",
   "metadata": {},
   "source": [
    "### 5. Сложность вопросов."
   ]
  },
  {
   "cell_type": "code",
   "execution_count": 21,
   "id": "e379b85b",
   "metadata": {},
   "outputs": [],
   "source": [
    "num_of_players = len(enc.categories_[0])\n",
    "coef_questions = list(model.coef_[0][num_of_players:])"
   ]
  },
  {
   "cell_type": "markdown",
   "id": "0fc83d8a",
   "metadata": {},
   "source": [
    "Посмотрим на турниры с самой высокой/низкой средней сложностью вопросов. "
   ]
  },
  {
   "cell_type": "code",
   "execution_count": 22,
   "id": "f272e7b4",
   "metadata": {},
   "outputs": [],
   "source": [
    "def calculate_average_question_difficulty(tourn_list):\n",
    "    average_question_diff = []\n",
    "    for tourn_index in tourn_list:\n",
    "        average_difficulty_for_tournament = np.mean(coef_questions[int(np.sum(num_of_questions_in_tourns[0:tourn_train.index(tourn_index)])):np.sum(num_of_questions_in_tourns[0:tourn_train.index(tourn_index)+1])])\n",
    "        average_question_diff.append(average_difficulty_for_tournament.round(4))\n",
    "    \n",
    "    return average_question_diff\n"
   ]
  },
  {
   "cell_type": "code",
   "execution_count": 23,
   "id": "111a1a8b",
   "metadata": {},
   "outputs": [],
   "source": [
    "tourn_difficulty = calculate_average_question_difficulty(tourn_train)\n",
    "tourn_difficulty_sorted = np.flip(np.sort(tourn_difficulty))\n",
    "tourn_sorted_by_difficulty = [tourn_train[i] for i in np.flip(np.argsort(tourn_difficulty))]"
   ]
  },
  {
   "cell_type": "code",
   "execution_count": 24,
   "id": "75105fb5",
   "metadata": {},
   "outputs": [
    {
     "name": "stdout",
     "output_type": "stream",
     "text": [
      "Топ турниров по сложности:\n",
      "0.5323 Чемпионат Санкт-Петербурга. Первая лига\n",
      "0.3628 Угрюмый Ёрш\n",
      "0.3167 Синхрон высшей лиги Москвы\n",
      "0.3035 Воображаемый музей\n",
      "0.3033 Первенство правого полушария\n",
      "0.2783 Зеркало мемориала памяти Михаила Басса\n",
      "0.2772 Записки охотника\n",
      "0.2748 Знание – Сила VI\n",
      "0.2728 Ускользающая сова\n",
      "0.2695 Чемпионат Минска. Лига А. Тур четвёртый\n",
      "\n",
      "Самые легкие турниры:\n",
      "-0.426 (а)Синхрон-lite. Лига старта. Эпизод V\n",
      "-0.4097 Школьный Синхрон-lite. Выпуск 2.5\n",
      "-0.3927 (а)Синхрон-lite. Лига старта. Эпизод III\n",
      "-0.3925 Синхрон Лиги Разума\n",
      "-0.3898 Студенческий чемпионат Калининградской области\n",
      "-0.3855 (а)Синхрон-lite. Лига старта. Эпизод VII\n",
      "-0.3803 Школьная лига. II тур.\n",
      "-0.3567 Школьный Синхрон-lite. Выпуск 2.3\n",
      "-0.3524 Малый кубок Физтеха\n",
      "-0.3517 (а)Синхрон-lite. Лига старта. Эпизод IV\n"
     ]
    }
   ],
   "source": [
    "top_size = 10\n",
    "\n",
    "print(\"Топ турниров по сложности:\")\n",
    "for i in range(0, top_size):\n",
    "    print(tourn_difficulty_sorted[i], data_tournaments[tourn_sorted_by_difficulty[i]]['name'])\n",
    "\n",
    "\n",
    "print(\"\\nСамые легкие турниры:\")\n",
    "for i in range(-1, -1-top_size, -1):\n",
    "    print(tourn_difficulty_sorted[i], data_tournaments[tourn_sorted_by_difficulty[i]]['name'])\n"
   ]
  },
  {
   "cell_type": "markdown",
   "id": "3dcf78cf",
   "metadata": {},
   "source": [
    "Список топа не очень понятный. Поэтому давайте явно возьмем из трейна турниры со словами \"чемпионат мира\" в описании и сравним их со школьными турнирами --- посмотрим, какова средняя сложность вопросов для каждого из них."
   ]
  },
  {
   "cell_type": "code",
   "execution_count": 25,
   "id": "f6b9f61b",
   "metadata": {},
   "outputs": [
    {
     "data": {
      "text/plain": [
       "-0.0"
      ]
     },
     "execution_count": 25,
     "metadata": {},
     "output_type": "execute_result"
    }
   ],
   "source": [
    "average_diff_overall = np.mean(coef_questions).round(2)\n",
    "average_diff_overall"
   ]
  },
  {
   "cell_type": "code",
   "execution_count": 26,
   "id": "819a6b32",
   "metadata": {},
   "outputs": [],
   "source": [
    "tourn_list_school = [tourn for tourn in tourn_train if 'школ' in data_tournaments[tourn]['name'\n",
    "                                                    ] or 'Школ' in data_tournaments[tourn]['name']]\n",
    "tourn_list_world = [tourn for tourn in tourn_train if 'чемпионат мира' in data_tournaments[tourn]['name'\n",
    "                                                    ] or 'Чемпионат Мира' in data_tournaments[tourn]['name']]\n",
    "tourn_list_to_compare = tourn_list_school + tourn_list_world\n",
    "average_question_diff_to_compare = calculate_average_question_difficulty(tourn_list_to_compare)"
   ]
  },
  {
   "cell_type": "code",
   "execution_count": 27,
   "id": "8b8da8d3",
   "metadata": {},
   "outputs": [
    {
     "data": {
      "image/png": "[encoded data removed]",
      "text/plain": [
       "<Figure size 560x1120 with 1 Axes>"
      ]
     },
     "metadata": {
      "needs_background": "light"
     },
     "output_type": "display_data"
    }
   ],
   "source": [
    "tourn_id_for_plot = tourn_list_school + tourn_list_world\n",
    "x_for_plot = [0] * (len(tourn_list_to_compare))\n",
    "y_for_plot = average_question_diff_to_compare\n",
    "colors = y_for_plot\n",
    "\n",
    "plt.figure(figsize=(7, 14), dpi=80)\n",
    "plt.xlim([-0.1, 1])\n",
    "plt.tick_params(\n",
    "    axis='x',          # changes apply to the x-axis\n",
    "    which='both',      # both major and minor ticks are affected\n",
    "    bottom=False,      # ticks along the bottom edge are off\n",
    "    top=False,         # ticks along the top edge are off\n",
    "    labelbottom=False)\n",
    "plt.scatter(x_for_plot, y_for_plot, c=colors)\n",
    "plt.scatter(0, average_diff_overall,c='red')\n",
    "plt.text(x=0.1, y=average_diff_overall-0.005, s='средняя сложность всех вопросов в трейне', alpha=0.5)\n",
    "plt.title('Сравнительная сложность вопросов')\n",
    "\n",
    "for i in range(len(tourn_id_for_plot)):\n",
    "    plt.text(x=x_for_plot[i]+0.1, y=y_for_plot[i]-0.005, s=data_tournaments[tourn_id_for_plot[i]]['name'], alpha=0.5)\n",
    "    \n",
    "plt.show()"
   ]
  },
  {
   "cell_type": "markdown",
   "id": "a53156b0",
   "metadata": {},
   "source": [
    "Это хорошая картинка, примерно такую мы и надеялись получить. Теперь посмотрим на отдельные вопросы. Имя турнира и номер (нумерация с единицы, как в базе) приведем для топ-10."
   ]
  },
  {
   "cell_type": "code",
   "execution_count": 28,
   "id": "ba47827a",
   "metadata": {},
   "outputs": [],
   "source": [
    "# это техническая клетка чтобы искать по номеру вопроса турнир, откуда он взялся, и номер вопроса внутри турнира \n",
    "# номер вопроса внутри турнира будем возвращать с единицы! как в базе\n",
    "\n",
    "questions_id_for_decode_tiled = []\n",
    "for i in range(0, len(tourn_train)):\n",
    "    tourn_number_tiled = [tourn_train[i]] * num_of_questions_in_tourns[i]\n",
    "    questions_id_for_decode_tiled.extend(tourn_number_tiled)\n",
    "\n",
    "    \n",
    "def get_tourn_num_from_question_num(question_num):\n",
    "    return int(questions_id_for_decode_tiled[question_num]) \n",
    "\n",
    "    \n",
    "def get_question_num_in_tourn(question_num):\n",
    "    return int(question_num - np.sum(\n",
    "        num_of_questions_in_tourns[:tourn_train.index(questions_id_for_decode_tiled[question_num])])) + 1\n"
   ]
  },
  {
   "cell_type": "code",
   "execution_count": 29,
   "id": "e054a44b",
   "metadata": {},
   "outputs": [
    {
     "name": "stdout",
     "output_type": "stream",
     "text": [
      "Топ вопросов по сложности: сложность/номер вопроса в турнире/название турнира\n",
      "0.749 15 Чемпионат Мира. Финал. Группа А\n",
      "0.742 14 Чемпионат Мира. Этап 2. Группа А\n",
      "0.742 15 Чемпионат Мира. Этап 3. Группа А\n",
      "0.699 5 Чемпионат Мира. Этап 1. Группа А\n",
      "0.679 7 Чемпионат Мира. Этап 2. Группа А\n",
      "0.669 24 Чемпионат Мира. Этап 3. Группа А\n",
      "0.655 68 Чемпионат России\n",
      "0.655 40 Чемпионат России\n",
      "0.647 33 Чемпионат Санкт-Петербурга. Высшая лига\n",
      "0.647 168 Чемпионат Санкт-Петербурга. Высшая лига\n",
      "\n",
      "Самые легкие вопросы: сложность/номер вопроса в турнире/название турнира\n",
      "-0.918 9 Открытый зимний чемпионат ТИУ\n",
      "-0.905 43 Открытый чемпионат Белгородской области\n",
      "-0.902 36 Кубок княгини Ольги среди школьников\n",
      "-0.889 5 Школьный Синхрон-lite. Выпуск 2.5\n",
      "-0.888 13 Кубок княгини Ольги среди школьников\n",
      "-0.884 34 Школьный Синхрон-lite. Выпуск 2.4\n",
      "-0.866 34 Открытый кубок УМЭД\n",
      "-0.859 2 Большая перемена\n",
      "-0.858 13 Студенческий чемпионат Калининградской области\n",
      "-0.858 29 Студенческий чемпионат Калининградской области\n"
     ]
    }
   ],
   "source": [
    "top_size = 10\n",
    "\n",
    "coef_questions = list(model.coef_[0][num_of_players:])\n",
    "questions_num_sorted = np.flip(np.argsort(coef_questions))\n",
    "questions_diff_sorted = np.flip(np.sort(coef_questions))\n",
    "\n",
    "print(\"Топ вопросов по сложности: сложность/номер вопроса в турнире/название турнира\")\n",
    "for i in range(0, top_size):\n",
    "    q_num = questions_num_sorted[i]\n",
    "    print(questions_diff_sorted[i].round(3), get_question_num_in_tourn(q_num\n",
    "                                                                     ), data_tournaments[get_tourn_num_from_question_num(\n",
    "                                                                        q_num)]['name'])\n",
    "\n",
    "\n",
    "print(\"\\nСамые легкие вопросы: сложность/номер вопроса в турнире/название турнира\")\n",
    "for i in range(-1, -1-top_size, -1):\n",
    "    q_num = questions_num_sorted[i]\n",
    "    print(questions_diff_sorted[i].round(3), get_question_num_in_tourn(q_num\n",
    "                                                                     ), data_tournaments[get_tourn_num_from_question_num(\n",
    "                                                                        q_num)]['name'])\n"
   ]
  },
  {
   "cell_type": "markdown",
   "id": "8bb1c33a",
   "metadata": {},
   "source": [
    "Конкретные вопросы в базе я искала вручную и не очень преуспела. Отдельно меня удивило, что вопрос 9 в зимнем чемпионате ТИУ кажется сильно сложнее вопроса 10 там же. Это бы объяснилось тем, что я потеряла единицу при счете (например, не учла что в турнирах нумерация не с нуля), но вроде не теряла. Загадка... (на всякий случай, вопросы привожу) Или 9-ый не сложнее?"
   ]
  },
  {
   "cell_type": "markdown",
   "id": "1073302a",
   "metadata": {},
   "source": [
    "[Ссылка на турнир с упомянутыми вопросами: ](https://db.chgk.info/tour/wc19_u.1)\n",
    "\n",
    "Вопрос 9:\n",
    "Правитель из поэмы Шоты́ Руставе́ли, желая оградить дочь от опасностей и болезней, воздвиг ЕЁ. \n",
    "О происхождении материала поэт не пишет, однако известно, что и в Грузии, и в Аравии было хорошо развито скотоводство. \n",
    "Назовите ЕЁ двумя или тремя словами, два из которых начинаются на одну букву.\n",
    "\n",
    "Ответ: безоа́ровая башня.\n",
    "\n",
    "Зачёт: башня из безоа́ра\n",
    "\n",
    "Вопрос 10:\n",
    "На одном барельефе бог Ша́маш передает Хаммура́пи символы царской власти: жезл и магическое кольцо. \n",
    "    Герой фантастического романа Нила Стивенсона считает, что на самом деле Хаммурапи получил ИХ и потому смог \n",
    "    создать законы, управляющие обществом. Назовите ИХ точно.\n",
    "\n",
    "Ответ: единица и ноль.\n",
    "\n",
    "Зачёт: в любом порядке, в том числе цифрами. "
   ]
  },
  {
   "cell_type": "markdown",
   "id": "4e7bca14",
   "metadata": {},
   "source": [
    "### 6. Топ игроков."
   ]
  },
  {
   "cell_type": "markdown",
   "id": "612509b9",
   "metadata": {},
   "source": [
    "Теперь посмотрим статистику по игрокам."
   ]
  },
  {
   "cell_type": "code",
   "execution_count": 30,
   "id": "515ede0a",
   "metadata": {},
   "outputs": [],
   "source": [
    "# посчитаем, сколько вопросов сыграл каждый игрок\n",
    "to_count_num_of_questions_played = [el[0] for el in X_for_enc]\n",
    "values, counts = np.unique(to_count_num_of_questions_played, return_counts=True)\n",
    "number_of_questions_played_by_player = {player_id : counts[np.where(values==player_id)][0] for player_id in players_id_for_decode}"
   ]
  },
  {
   "cell_type": "code",
   "execution_count": 31,
   "id": "b1803151",
   "metadata": {},
   "outputs": [],
   "source": [
    "num_of_players = len(enc.categories_[0])\n",
    "\n",
    "def print_top_players(top_size, model):\n",
    "    coef_players = list(model.coef_[0][0:num_of_players])\n",
    "\n",
    "    top_players_strength = np.sort(coef_players)[0:top_size]\n",
    "    top_players_num = np.argsort(coef_players)[0:top_size]\n",
    "\n",
    "\n",
    "    print(\"\\nСамые сильные игроки: сила / число сыгранных вопросов (из трейна) / ФИО\")\n",
    "    for i in range(0, top_size):\n",
    "        player_id = players_id_for_decode[top_players_num[i]]\n",
    "        number_of_questions_played = number_of_questions_played_by_player[player_id]\n",
    "        print(-top_players_strength[i].round(3), number_of_questions_played, data_players[\n",
    "            player_id]['surname'], data_players[player_id]['name'], data_players[player_id]['patronymic'])"
   ]
  },
  {
   "cell_type": "code",
   "execution_count": 32,
   "id": "6d717f0c",
   "metadata": {},
   "outputs": [
    {
     "name": "stdout",
     "output_type": "stream",
     "text": [
      "\n",
      "Самые сильные игроки: сила / число сыгранных вопросов (из трейна) / ФИО\n",
      "0.657 2092 Руссо Максим Михайлович\n",
      "0.637 2606 Брутер Александра Владимировна\n",
      "0.632 3608 Семушин Иван Николаевич\n",
      "0.631 45 Кудинов Дмитрий Сергеевич\n",
      "0.624 36 Пилипенко Максим Игоревич\n",
      "0.623 2942 Савченков Михаил Владимирович\n",
      "0.612 4685 Сорожкин Артём Сергеевич\n",
      "0.609 3535 Спешков Сергей Леонидович\n",
      "0.601 1512 Мереминский Станислав Григорьевич\n",
      "0.6 36 Петров Денис Борисович\n"
     ]
    }
   ],
   "source": [
    "print_top_players(10, best_model)"
   ]
  },
  {
   "cell_type": "markdown",
   "id": "accf9448",
   "metadata": {},
   "source": [
    "\"Лазутчиков-новичков\" в топе 3 из 10 (и шесть из топ-30) --- подозреваю, что не так много, как должно быть, судя по описанию домашки. При этом в baseline, как в линейной, так и в логреге, топ весь занят новичками (см. ниже). Почему-то получается наоборот. Это мне не понятно. Даже если предположить, что мой EM-алгоритм - не ЕМ (там от итерации к итерации мало что меняется, и метрики, и топ игроков), а на самом деле baseline, то почему в бейзлайне, где эффект лишних людей в топе должен быть ниже, он сильно выше? Буду благодарна за любой комментарий."
   ]
  },
  {
   "cell_type": "code",
   "execution_count": 33,
   "id": "4a2cf9a1",
   "metadata": {},
   "outputs": [
    {
     "name": "stdout",
     "output_type": "stream",
     "text": [
      "Linear regression:\n",
      "\n",
      "Самые сильные игроки: сила / число сыгранных вопросов (из трейна) / ФИО\n",
      "0.612 36 Богданов Даниил Александрович\n",
      "0.612 36 Балтруков Дмитрий Иванович\n",
      "0.612 36 Власова Олеся Сергеевна\n",
      "0.612 36 Логвинова Заряна Сергеевна\n",
      "0.612 36 Тошматов Мехрубон Одилжоювич\n",
      "0.612 36 Попова Анастасия Олеговна\n",
      "0.612 36 Медведчук Михаил Владимирович\n",
      "0.612 36 Богомазова Дана Романовна\n",
      "0.612 36 Новикова Полина Сергеевна\n",
      "0.612 36 Капитанова Екатерина Станиславовна\n",
      "\n",
      "Logistic regression:\n",
      "\n",
      "Самые сильные игроки: сила / число сыгранных вопросов (из трейна) / ФИО\n",
      "3.378 72 Тишанинова Дарья Дмитриевна\n",
      "3.378 72 Цыганенко Елизавета Вадимовна\n",
      "3.309 36 Никифорова Дарья \n",
      "3.309 36 Васильев Антон \n",
      "3.309 36 Яковлева Анна \n",
      "3.309 36 Никитин Роман \n",
      "3.309 36 Алексеев Дмитрий \n",
      "3.309 36 Богданов Владислав \n",
      "3.309 36 Белолуцкая Софья \n",
      "3.272 72 Трепко Татьяна Александровна\n"
     ]
    }
   ],
   "source": [
    "print(\"Linear regression:\")\n",
    "print_top_players(10, lr)\n",
    "print(\"\\nLogistic regression:\")\n",
    "print_top_players(10, logreg)"
   ]
  },
  {
   "cell_type": "markdown",
   "id": "b0ea4828",
   "metadata": {},
   "source": [
    "Попробуем все же убрать лишних людей из топа. Поищем порог отсечения по количеству сыгранных вопросов."
   ]
  },
  {
   "cell_type": "code",
   "execution_count": 34,
   "id": "e9efd18d",
   "metadata": {},
   "outputs": [
    {
     "name": "stdout",
     "output_type": "stream",
     "text": [
      "Total number of players is  53190\n",
      "Number of players with less than 36 questions played is 1182 (the rest is 52008)\n",
      "Number of players with less than 37 questions played is 18690 (the rest is 34500)\n",
      "Number of players with less than 60 questions played is 21348 (the rest is 31842)\n",
      "Number of players with less than 100 questions played is 29893 (the rest is 23297)\n",
      "Number of players with less than 500 questions played is 45520 (the rest is 7670)\n",
      "Number of players with less than 1000 questions played is 49400 (the rest is 3790)\n"
     ]
    }
   ],
   "source": [
    "def get_persona_non_grata_list(question_threshold):\n",
    "    return [p_id for p_id in players_id_for_decode if number_of_questions_played_by_player[p_id] < question_threshold]\n",
    "\n",
    "print(\"Total number of players is \", len(players_id_for_decode))\n",
    "for q_threshold in [36, 37, 60, 100, 500, 1000]:\n",
    "    non_grata_num = len(get_persona_non_grata_list(q_threshold))\n",
    "    print(\"Number of players with less than %d questions played is %d (the rest is %d)\" % (\n",
    "        q_threshold, non_grata_num, len(players_id_for_decode) - non_grata_num)\n",
    "         )"
   ]
  },
  {
   "cell_type": "markdown",
   "id": "5d8c4597",
   "metadata": {},
   "source": [
    "То есть мы видим, что примерно 17 тысяч человек (из 53 тысяч) сыграли ровно один турнир на 36 вопросов. Поставим порог отсечения в 60 (то есть будем брать людей, сыгравших хотя бы два турнира, и при этом отсеем меньше половины участников).\n",
    "\n",
    "Если просто игнорировать новичков, результаты членов их команд искажаются в лучшую сторону: если бывалый играл в команде из пяти новичков, то игнорируя новичков, мы автоматически припишем все успехи команды одному человеку. Поэтому, если мы хотим убрать из рассмотрения людей игравших мало, стоит не учитывать результаты всей команды, в которую новички входили. \n",
    "\n",
    "Еще вероятна проблема, что теперь выйдут в топ те, кто сыграл не один турнир, а, скажем, три --- из них два турнира вместе с совсем новичками и следовательно неучтенные. Посмотрим.\n",
    "\n",
    "Удалим из рассмотрения команды с новичками и переобучим обычные линрегрессию, логрегрессию и модель из EM-алгоритма --- и выведем новый топ."
   ]
  },
  {
   "cell_type": "code",
   "execution_count": 35,
   "id": "4704c74d",
   "metadata": {},
   "outputs": [],
   "source": [
    "def get_data_for_enc_v2(list_of_tournaments, persona_non_grata_list):\n",
    "    X_for_enc = np.empty((0,2), int)\n",
    "    y_for_enc = np.array([])\n",
    "    num_of_questions_already_played = 0\n",
    "    to_stack_for_X = []\n",
    "    to_stack_for_y = []\n",
    "    counter_inconsistent = 0\n",
    "    non_grata_teams_counter = 0\n",
    "    tourn_counter = 0\n",
    "    \n",
    "    for idx_tourn in list_of_tournaments:\n",
    "        num_of_current_questions = len([int(res) for res in data_results[idx_tourn][0]['mask'] if res=='0' or res=='1'])\n",
    "        \n",
    "        current_questions_idx = np.arange(\n",
    "            num_of_questions_already_played, num_of_questions_already_played + num_of_current_questions)\n",
    "        num_of_questions_already_played += num_of_current_questions\n",
    "        \n",
    "        idx_teams = 0\n",
    "        while idx_teams < len(data_results[idx_tourn]):\n",
    "\n",
    "            team_non_grata_flag = False\n",
    "            \n",
    "            y_current = np.array([int(res) for res in data_results[idx_tourn][idx_teams]['mask'] if res=='0' or res=='1'])\n",
    "            team_players_idx = []\n",
    "            for idx_team_members in range(0, len(data_results[idx_tourn][idx_teams]['teamMembers'])):\n",
    "                player_id = int(data_results[idx_tourn][idx_teams]['teamMembers'][idx_team_members]['player']['id'])\n",
    "                \n",
    "                if player_id in persona_non_grata_list:\n",
    "                    team_non_grata_flag = True\n",
    "                    \n",
    "                team_players_idx.append(player_id) \n",
    "                \n",
    "            if team_non_grata_flag == False:\n",
    "                player_question_pairs = np.transpose([np.repeat(team_players_idx, len(current_questions_idx)), \n",
    "                                                      np.tile(current_questions_idx, len(team_players_idx))])\n",
    "                y_for_current_team = np.tile(y_current, len(team_players_idx)).reshape(-1, 1)\n",
    "            else:\n",
    "                non_grata_teams_counter += 1\n",
    "            \n",
    "              \n",
    "            to_stack_for_X.append(player_question_pairs)            \n",
    "            to_stack_for_y.append(y_for_current_team)\n",
    "        \n",
    "            idx_teams += 1\n",
    "            \n",
    "        num_of_questions_in_tourns.append(num_of_current_questions)\n",
    "        tourn_counter += 1\n",
    "        if tourn_counter % 100 == 0:\n",
    "            print(\"Handling tournament number \", tourn_counter)\n",
    "\n",
    "    X_for_enc = np.vstack((to_stack_for_X))\n",
    "    y_for_enc = np.vstack((to_stack_for_y))\n",
    "    print(\"X_for_enc.shape = \", X_for_enc.shape)\n",
    "    print(\"y_for_enc.shape = \", y_for_enc.shape)\n",
    "            \n",
    "        \n",
    "    print(non_grata_teams_counter, \"times teams were excluded\")\n",
    "    #print(np.sum(y_for_enc, axis=0))\n",
    "    \n",
    "    return X_for_enc, y_for_enc, num_of_questions_in_tourns"
   ]
  },
  {
   "cell_type": "code",
   "execution_count": 36,
   "id": "15bfc991",
   "metadata": {},
   "outputs": [],
   "source": [
    "persona_non_grata_list = get_persona_non_grata_list(60)"
   ]
  },
  {
   "cell_type": "code",
   "execution_count": 37,
   "id": "284ce2d5",
   "metadata": {},
   "outputs": [
    {
     "name": "stdout",
     "output_type": "stream",
     "text": [
      "Handling tournament number  100\n",
      "Handling tournament number  200\n",
      "Handling tournament number  300\n",
      "Handling tournament number  400\n",
      "Handling tournament number  500\n",
      "Handling tournament number  600\n",
      "X_for_enc.shape =  (14555056, 2)\n",
      "y_for_enc.shape =  (14555056, 1)\n",
      "9246 times teams were excluded\n",
      "Wall time: 14min 10s\n"
     ]
    }
   ],
   "source": [
    "%%time\n",
    "\n",
    "X_for_enc_no_newbies, y_for_enc_no_newbies, num_of_questions_in_tourns = get_data_for_enc_v2(\n",
    "    tourn_train, persona_non_grata_list\n",
    ")"
   ]
  },
  {
   "cell_type": "code",
   "execution_count": 38,
   "id": "2eaf1421",
   "metadata": {},
   "outputs": [
    {
     "name": "stdout",
     "output_type": "stream",
     "text": [
      "Wall time: 3.62 s\n"
     ]
    },
    {
     "data": {
      "text/plain": [
       "<14555056x59525 sparse matrix of type '<class 'numpy.int32'>'\n",
       "\twith 29110112 stored elements in Compressed Sparse Row format>"
      ]
     },
     "execution_count": 38,
     "metadata": {},
     "output_type": "execute_result"
    }
   ],
   "source": [
    "%%time\n",
    "\n",
    "enc_no_newbies = OneHotEncoder(dtype='int32')\n",
    "enc_no_newbies.fit(X_for_enc_no_newbies)\n",
    "X_train_no_newbies = enc_no_newbies.transform(X_for_enc_no_newbies)#.toarray()\n",
    "X_train_no_newbies"
   ]
  },
  {
   "cell_type": "code",
   "execution_count": 39,
   "id": "542e1641",
   "metadata": {},
   "outputs": [],
   "source": [
    "# подготовка данных\n",
    "\n",
    "num_of_players = len(enc_no_newbies.categories_[0])\n",
    "players_id_for_decode = enc_no_newbies.categories_[0]\n",
    "\n",
    "to_count_num_of_questions_played = [el[0] for el in X_for_enc_no_newbies]\n",
    "values, counts = np.unique(to_count_num_of_questions_played, return_counts=True)\n",
    "number_of_questions_played_by_player = {player_id : counts[np.where(values==player_id)][0] for player_id in players_id_for_decode}\n"
   ]
  },
  {
   "cell_type": "code",
   "execution_count": 40,
   "id": "80770ece",
   "metadata": {},
   "outputs": [
    {
     "name": "stdout",
     "output_type": "stream",
     "text": [
      "Wall time: 1min 9s\n"
     ]
    },
    {
     "data": {
      "text/plain": [
       "LinearRegression()"
      ]
     },
     "execution_count": 40,
     "metadata": {},
     "output_type": "execute_result"
    }
   ],
   "source": [
    "%%time\n",
    "\n",
    "lr_no_newbies = LinearRegression()\n",
    "lr_no_newbies.fit(X_train_no_newbies, y_for_enc_no_newbies)"
   ]
  },
  {
   "cell_type": "code",
   "execution_count": 41,
   "id": "412117da",
   "metadata": {},
   "outputs": [
    {
     "data": {
      "text/plain": [
       "array([[ 0.03713098,  0.19568361,  0.12138529, ...,  0.59116726,\n",
       "         0.0622417 , -0.30965908]])"
      ]
     },
     "execution_count": 41,
     "metadata": {},
     "output_type": "execute_result"
    }
   ],
   "source": [
    "lr_no_newbies.coef_"
   ]
  },
  {
   "cell_type": "code",
   "execution_count": 42,
   "id": "0822d30a",
   "metadata": {},
   "outputs": [
    {
     "name": "stdout",
     "output_type": "stream",
     "text": [
      "\n",
      "Самые сильные игроки: сила / число сыгранных вопросов (из трейна) / ФИО\n",
      "0.642 36 Коротков Илья Николаевич\n",
      "0.642 36 Пилясова Дарья Алексеевна\n",
      "0.627 72 Кучумова Карина Викторовна\n",
      "0.627 72 Степанова Татьяна Алексеевна\n",
      "0.627 72 Садовский Николай Сергеевич\n",
      "0.627 72 Галухин Кирилл Сергеевич\n",
      "0.627 72 Семёнов Денис Васильевич\n",
      "0.599 72 Никифорова Елизавета Алексеевна\n",
      "0.599 72 Минчуна Виктория Викторовна\n",
      "0.599 72 Кишеев Егор Геннадьевич\n"
     ]
    }
   ],
   "source": [
    "print_top_players(10, lr_no_newbies)"
   ]
  },
  {
   "cell_type": "code",
   "execution_count": 43,
   "id": "99c860cd",
   "metadata": {},
   "outputs": [
    {
     "name": "stdout",
     "output_type": "stream",
     "text": [
      "Wall time: 3min 51s\n"
     ]
    },
    {
     "data": {
      "text/plain": [
       "LogisticRegression(solver='saga')"
      ]
     },
     "execution_count": 43,
     "metadata": {},
     "output_type": "execute_result"
    }
   ],
   "source": [
    "%%time\n",
    "\n",
    "logreg_no_newbies = LogisticRegression(solver='saga')\n",
    "logreg_no_newbies.fit(X_train_no_newbies, y_for_enc_no_newbies.ravel())"
   ]
  },
  {
   "cell_type": "code",
   "execution_count": 44,
   "id": "0a30e00a",
   "metadata": {},
   "outputs": [
    {
     "name": "stdout",
     "output_type": "stream",
     "text": [
      "\n",
      "Самые сильные игроки: сила / число сыгранных вопросов (из трейна) / ФИО\n",
      "5.022 288 Махмуджонова Рухсора Маъсуджон кизи\n",
      "4.625 180 Трепко Татьяна Александровна\n",
      "4.544 2088 Добросельская Валерия Викторовна\n",
      "4.544 2088 Бердникова Арина Анатольевна\n",
      "4.544 2088 Плаксина Светлана Игоревна\n",
      "4.544 2088 Саукова Дарья Евгеньевна\n",
      "4.503 180 Курочкина Анастасия Петровна\n",
      "4.398 324 Хазраткулов Рустам Жахонгирович\n",
      "4.295 360 Самандаров Элбек Санджарович\n",
      "4.295 360 Тамазов Рамис Шамильевич\n"
     ]
    }
   ],
   "source": [
    "print_top_players(10, logreg_no_newbies)"
   ]
  },
  {
   "cell_type": "markdown",
   "id": "9cf7e810",
   "metadata": {},
   "source": [
    "Видно, что попытка избавиться от новичков в топе для линейной регрессии провалилась. Для логистической регрессии дело как будто бы обстоит лучше --- появляются люди, которые много играли, --- но на самом деле по официальному рейтингу они все еще не занимают сколько-нибудь значительного места. Посмотрим теперь, что поменяется в (и так вполне приличном) топе для нашей ЕМ-модели."
   ]
  },
  {
   "cell_type": "code",
   "execution_count": 45,
   "id": "d324856a",
   "metadata": {},
   "outputs": [
    {
     "name": "stdout",
     "output_type": "stream",
     "text": [
      "Iteration  0\n",
      "Iteration  1\n",
      "Iteration  2\n",
      "Iteration  3\n",
      "Iteration  4\n",
      "Wall time: 6min 45s\n"
     ]
    }
   ],
   "source": [
    "%%time\n",
    "\n",
    "anti_y_no_newbies = 1 - y_for_enc_no_newbies\n",
    "expectation_anti_no_newbies = anti_y_no_newbies\n",
    "\n",
    "iterations = 5\n",
    "\n",
    "metrics_list_pearson = []\n",
    "metrics_list_kendall = []\n",
    "\n",
    "for i in range(0, iterations):\n",
    "    print(\"Iteration \", i)\n",
    "    \n",
    "    model_no_newbies = LinearRegression()\n",
    "    model_no_newbies.fit(X_train_no_newbies, expectation_anti_no_newbies)        ## M - шаг\n",
    "    \n",
    "    pearson, kendall = calculate_correlations(tourn_test, model)\n",
    "    metrics_list_pearson.append(-pearson)\n",
    "    metrics_list_kendall.append(-kendall)\n",
    "    \n",
    "    expectation_anti_no_newbies = model_no_newbies.predict(X_train_no_newbies)   ## E - шаг\n",
    "    \n",
    "best_model_no_newbies = model_no_newbies"
   ]
  },
  {
   "cell_type": "code",
   "execution_count": 46,
   "id": "db08bd1c",
   "metadata": {},
   "outputs": [
    {
     "name": "stdout",
     "output_type": "stream",
     "text": [
      "\n",
      "Самые сильные игроки: сила / число сыгранных вопросов (из трейна) / ФИО\n",
      "0.589 45 Григорьев Михаил Сергеевич\n",
      "0.579 2092 Руссо Максим Михайлович\n",
      "0.559 2606 Брутер Александра Владимировна\n",
      "0.554 3608 Семушин Иван Николаевич\n",
      "0.545 2942 Савченков Михаил Владимирович\n",
      "0.533 3499 Спешков Сергей Леонидович\n",
      "0.533 4724 Сорожкин Артём Сергеевич\n",
      "0.523 1512 Мереминский Станислав Григорьевич\n",
      "0.513 1365 Левандовский Михаил Ильич\n",
      "0.511 454 Царёв Михаил Сергеевич\n"
     ]
    }
   ],
   "source": [
    "print_top_players(10, best_model_no_newbies)"
   ]
  },
  {
   "cell_type": "markdown",
   "id": "14472af8",
   "metadata": {},
   "source": [
    "Теперь в топ-10 игроков вместо трех лазутчиков всего двое (точнее даже полтора --- т.к. Царев Михаил Сергеевич уже не ноунейм, а вполне себе игрок с местом 1295-1296 в официальном рейтинге) и сам топ чуть перемешался. Но в целом рейтинг этой модели и до улучшения, и после весьма похож на настоящий."
   ]
  },
  {
   "cell_type": "code",
   "execution_count": null,
   "id": "fa81a35d",
   "metadata": {},
   "outputs": [],
   "source": []
  }
 ],
 "metadata": {
  "kernelspec": {
   "display_name": "Python 3",
   "language": "python",
   "name": "python3"
  },
  "language_info": {
   "codemirror_mode": {
    "name": "ipython",
    "version": 3
   },
   "file_extension": ".py",
   "mimetype": "text/x-python",
   "name": "python",
   "nbconvert_exporter": "python",
   "pygments_lexer": "ipython3",
   "version": "3.8.8"
  }
 },
 "nbformat": 4,
 "nbformat_minor": 5
}
